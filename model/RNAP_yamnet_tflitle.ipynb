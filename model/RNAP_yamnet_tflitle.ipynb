{
 "cells": [
  {
   "cell_type": "code",
   "execution_count": 5,
   "metadata": {},
   "outputs": [
    {
     "ename": "ValueError",
     "evalue": "Exception encountered when calling layer \"yam_net_wrapper_2\" (type YAMNetWrapper).\n\nin user code:\n\n    File \"C:\\Users\\burim.UNICORP\\AppData\\Local\\Temp\\ipykernel_10376\\3431620383.py\", line 15, in call  *\n        return self.yamnet_model(inputs)\n\n    ValueError: Python inputs incompatible with input_signature:\n      inputs: (\n        Tensor(\"Placeholder:0\", shape=(None, None), dtype=float32))\n      input_signature: (\n        TensorSpec(shape=(None,), dtype=tf.float32, name=None)).\n\n\nCall arguments received by layer \"yam_net_wrapper_2\" (type YAMNetWrapper):\n  • inputs=tf.Tensor(shape=(None, None), dtype=float32)",
     "output_type": "error",
     "traceback": [
      "\u001b[1;31m---------------------------------------------------------------------------\u001b[0m",
      "\u001b[1;31mValueError\u001b[0m                                Traceback (most recent call last)",
      "Cell \u001b[1;32mIn[5], line 27\u001b[0m\n\u001b[0;32m     25\u001b[0m \u001b[39m# Especifique a forma da entrada\u001b[39;00m\n\u001b[0;32m     26\u001b[0m input_shape \u001b[39m=\u001b[39m (\u001b[39mNone\u001b[39;00m,)\n\u001b[1;32m---> 27\u001b[0m yamnet_lite_model \u001b[39m=\u001b[39m yamnet_tflite(input_shape, yamnet_model)\n\u001b[0;32m     29\u001b[0m \u001b[39m# Converta para TensorFlow Lite\u001b[39;00m\n\u001b[0;32m     30\u001b[0m converter \u001b[39m=\u001b[39m tf\u001b[39m.\u001b[39mlite\u001b[39m.\u001b[39mTFLiteConverter\u001b[39m.\u001b[39mfrom_keras_model(yamnet_lite_model)\n",
      "Cell \u001b[1;32mIn[5], line 21\u001b[0m, in \u001b[0;36myamnet_tflite\u001b[1;34m(input_shape, yamnet_model)\u001b[0m\n\u001b[0;32m     19\u001b[0m input_layer \u001b[39m=\u001b[39m tf\u001b[39m.\u001b[39mkeras\u001b[39m.\u001b[39mlayers\u001b[39m.\u001b[39mInput(shape\u001b[39m=\u001b[39minput_shape, dtype\u001b[39m=\u001b[39mtf\u001b[39m.\u001b[39mfloat32)\n\u001b[0;32m     20\u001b[0m yamnet_wrapper \u001b[39m=\u001b[39m YAMNetWrapper(yamnet_model)\n\u001b[1;32m---> 21\u001b[0m yamnet_output \u001b[39m=\u001b[39m yamnet_wrapper(input_layer)\n\u001b[0;32m     22\u001b[0m model \u001b[39m=\u001b[39m tf\u001b[39m.\u001b[39mkeras\u001b[39m.\u001b[39mModel(inputs\u001b[39m=\u001b[39minput_layer, outputs\u001b[39m=\u001b[39myamnet_output)\n\u001b[0;32m     23\u001b[0m \u001b[39mreturn\u001b[39;00m model\n",
      "File \u001b[1;32mc:\\Python311\\Lib\\site-packages\\keras\\utils\\traceback_utils.py:70\u001b[0m, in \u001b[0;36mfilter_traceback.<locals>.error_handler\u001b[1;34m(*args, **kwargs)\u001b[0m\n\u001b[0;32m     67\u001b[0m     filtered_tb \u001b[39m=\u001b[39m _process_traceback_frames(e\u001b[39m.\u001b[39m__traceback__)\n\u001b[0;32m     68\u001b[0m     \u001b[39m# To get the full stack trace, call:\u001b[39;00m\n\u001b[0;32m     69\u001b[0m     \u001b[39m# `tf.debugging.disable_traceback_filtering()`\u001b[39;00m\n\u001b[1;32m---> 70\u001b[0m     \u001b[39mraise\u001b[39;00m e\u001b[39m.\u001b[39mwith_traceback(filtered_tb) \u001b[39mfrom\u001b[39;00m \u001b[39mNone\u001b[39;00m\n\u001b[0;32m     71\u001b[0m \u001b[39mfinally\u001b[39;00m:\n\u001b[0;32m     72\u001b[0m     \u001b[39mdel\u001b[39;00m filtered_tb\n",
      "File \u001b[1;32mC:\\Users\\BURIM~1.UNI\\AppData\\Local\\Temp\\__autograph_generated_filebokax2an.py:12\u001b[0m, in \u001b[0;36mouter_factory.<locals>.inner_factory.<locals>.tf__call\u001b[1;34m(self, inputs)\u001b[0m\n\u001b[0;32m     10\u001b[0m \u001b[39mtry\u001b[39;00m:\n\u001b[0;32m     11\u001b[0m     do_return \u001b[39m=\u001b[39m \u001b[39mTrue\u001b[39;00m\n\u001b[1;32m---> 12\u001b[0m     retval_ \u001b[39m=\u001b[39m ag__\u001b[39m.\u001b[39mconverted_call(ag__\u001b[39m.\u001b[39mld(\u001b[39mself\u001b[39m)\u001b[39m.\u001b[39myamnet_model, (ag__\u001b[39m.\u001b[39mld(inputs),), \u001b[39mNone\u001b[39;00m, fscope)\n\u001b[0;32m     13\u001b[0m \u001b[39mexcept\u001b[39;00m:\n\u001b[0;32m     14\u001b[0m     do_return \u001b[39m=\u001b[39m \u001b[39mFalse\u001b[39;00m\n",
      "\u001b[1;31mValueError\u001b[0m: Exception encountered when calling layer \"yam_net_wrapper_2\" (type YAMNetWrapper).\n\nin user code:\n\n    File \"C:\\Users\\burim.UNICORP\\AppData\\Local\\Temp\\ipykernel_10376\\3431620383.py\", line 15, in call  *\n        return self.yamnet_model(inputs)\n\n    ValueError: Python inputs incompatible with input_signature:\n      inputs: (\n        Tensor(\"Placeholder:0\", shape=(None, None), dtype=float32))\n      input_signature: (\n        TensorSpec(shape=(None,), dtype=tf.float32, name=None)).\n\n\nCall arguments received by layer \"yam_net_wrapper_2\" (type YAMNetWrapper):\n  • inputs=tf.Tensor(shape=(None, None), dtype=float32)"
     ]
    }
   ],
   "source": [
    "import tensorflow as tf\n",
    "import tensorflow_hub as hub\n",
    "\n",
    "yamnet_model_url = \"https://tfhub.dev/google/yamnet/1\"\n",
    "yamnet_model = hub.load(yamnet_model_url)\n",
    "\n",
    "\n",
    "\n",
    "class YAMNetWrapper(tf.keras.layers.Layer):\n",
    "    def __init__(self, yamnet_model, **kwargs):\n",
    "        super().__init__(**kwargs)\n",
    "        self.yamnet_model = yamnet_model\n",
    "\n",
    "    def call(self, inputs):\n",
    "        return self.yamnet_model(inputs)\n",
    "    \n",
    "# Função para converter o modelo\n",
    "def yamnet_tflite(input_shape, yamnet_model):\n",
    "    input_layer = tf.keras.layers.Input(shape=input_shape, dtype=tf.float32)\n",
    "    yamnet_wrapper = YAMNetWrapper(yamnet_model)\n",
    "    yamnet_output = yamnet_wrapper(input_layer)\n",
    "    model = tf.keras.Model(inputs=input_layer, outputs=yamnet_output)\n",
    "    return model\n",
    "\n",
    "# Especifique a forma da entrada\n",
    "input_shape = (None,)\n",
    "yamnet_lite_model = yamnet_tflite(input_shape, yamnet_model)\n",
    "\n",
    "# Converta para TensorFlow Lite\n",
    "converter = tf.lite.TFLiteConverter.from_keras_model(yamnet_lite_model)\n",
    "tflite_model = converter.convert()"
   ]
  },
  {
   "cell_type": "code",
   "execution_count": 9,
   "metadata": {},
   "outputs": [
    {
     "name": "stdout",
     "output_type": "stream",
     "text": [
      "INFO:tensorflow:Assets written to: C:\\Users\\BURIM~1.UNI\\AppData\\Local\\Temp\\yamnet_saved_model\\assets\n"
     ]
    },
    {
     "name": "stderr",
     "output_type": "stream",
     "text": [
      "INFO:tensorflow:Assets written to: C:\\Users\\BURIM~1.UNI\\AppData\\Local\\Temp\\yamnet_saved_model\\assets\n",
      "WARNING:absl:Please consider providing the trackable_obj argument in the from_concrete_functions. Providing without the trackable_obj argument is deprecated and it will use the deprecated conversion path.\n"
     ]
    },
    {
     "ename": "ValueError",
     "evalue": "This function takes in a list of ConcreteFunction.",
     "output_type": "error",
     "traceback": [
      "\u001b[1;31m---------------------------------------------------------------------------\u001b[0m",
      "\u001b[1;31mValueError\u001b[0m                                Traceback (most recent call last)",
      "Cell \u001b[1;32mIn[9], line 13\u001b[0m\n\u001b[0;32m      7\u001b[0m loaded_yamnet \u001b[39m=\u001b[39m tf\u001b[39m.\u001b[39msaved_model\u001b[39m.\u001b[39mload(yamnet_saved_model_path)\n\u001b[0;32m      9\u001b[0m \u001b[39m# Defina a função de assinatura concreta\u001b[39;00m\n\u001b[0;32m     10\u001b[0m \u001b[39m#concrete_func = loaded_yamnet.signatures['serving_default']\u001b[39;00m\n\u001b[0;32m     11\u001b[0m \n\u001b[0;32m     12\u001b[0m \u001b[39m# Converta para TensorFlow Lite\u001b[39;00m\n\u001b[1;32m---> 13\u001b[0m converter \u001b[39m=\u001b[39m tf\u001b[39m.\u001b[39;49mlite\u001b[39m.\u001b[39;49mTFLiteConverter\u001b[39m.\u001b[39;49mfrom_concrete_functions(\u001b[39m'\u001b[39;49m\u001b[39mserving_default\u001b[39;49m\u001b[39m'\u001b[39;49m)\n\u001b[0;32m     14\u001b[0m tflite_model \u001b[39m=\u001b[39m converter\u001b[39m.\u001b[39mconvert()\n\u001b[0;32m     16\u001b[0m \u001b[39mwith\u001b[39;00m \u001b[39mopen\u001b[39m(\u001b[39m'\u001b[39m\u001b[39myamnet.tflite\u001b[39m\u001b[39m'\u001b[39m, \u001b[39m'\u001b[39m\u001b[39mwb\u001b[39m\u001b[39m'\u001b[39m) \u001b[39mas\u001b[39;00m f:\n",
      "File \u001b[1;32mc:\\Python311\\Lib\\site-packages\\tensorflow\\lite\\python\\lite.py:1776\u001b[0m, in \u001b[0;36mTFLiteConverterV2.from_concrete_functions\u001b[1;34m(cls, funcs, trackable_obj)\u001b[0m\n\u001b[0;32m   1773\u001b[0m     \u001b[39mif\u001b[39;00m \u001b[39misinstance\u001b[39m(func, _def_function\u001b[39m.\u001b[39mFunction):\n\u001b[0;32m   1774\u001b[0m       message \u001b[39m+\u001b[39m\u001b[39m=\u001b[39m (\u001b[39m\"\u001b[39m\u001b[39m To get the ConcreteFunction from a Function,\u001b[39m\u001b[39m\"\u001b[39m\n\u001b[0;32m   1775\u001b[0m                   \u001b[39m\"\u001b[39m\u001b[39m call get_concrete_function.\u001b[39m\u001b[39m\"\u001b[39m)\n\u001b[1;32m-> 1776\u001b[0m     \u001b[39mraise\u001b[39;00m \u001b[39mValueError\u001b[39;00m(message)\n\u001b[0;32m   1777\u001b[0m \u001b[39mreturn\u001b[39;00m \u001b[39mcls\u001b[39m(funcs, trackable_obj)\n",
      "\u001b[1;31mValueError\u001b[0m: This function takes in a list of ConcreteFunction."
     ]
    }
   ],
   "source": [
    "import os\n",
    "import tempfile\n",
    "\n",
    "yamnet_saved_model_path = os.path.join(tempfile.gettempdir(), \"yamnet_saved_model\")\n",
    "tf.saved_model.save(yamnet_model, yamnet_saved_model_path)\n",
    "\n",
    "\n",
    "\n",
    "\n"
   ]
  },
  {
   "cell_type": "code",
   "execution_count": 13,
   "metadata": {},
   "outputs": [
    {
     "name": "stderr",
     "output_type": "stream",
     "text": [
      "WARNING:absl:Please consider providing the trackable_obj argument in the from_concrete_functions. Providing without the trackable_obj argument is deprecated and it will use the deprecated conversion path.\n"
     ]
    }
   ],
   "source": [
    "loaded_yamnet = tf.saved_model.load(yamnet_saved_model_path)\n",
    "\n",
    "# Defina a função de assinatura concreta\n",
    "concrete_func = yamnet_model.signatures['serving_default']\n",
    "\n",
    "# Converta para TensorFlow Lite\n",
    "converter = tf.lite.TFLiteConverter.from_concrete_functions([concrete_func])\n",
    "tflite_model = converter.convert()\n",
    "\n",
    "with open('yamnet.tflite', 'wb') as f:\n",
    "    f.write(tflite_model)"
   ]
  },
  {
   "cell_type": "code",
   "execution_count": 7,
   "metadata": {},
   "outputs": [
    {
     "name": "stdout",
     "output_type": "stream",
     "text": [
      "_SignatureMap({'serving_default': <ConcreteFunction signature_wrapper(waveform) at 0x1F3FC1C3490>})\n"
     ]
    }
   ],
   "source": [
    "print(yamnet_model.signatures)\n"
   ]
  }
 ],
 "metadata": {
  "kernelspec": {
   "display_name": "Python 3",
   "language": "python",
   "name": "python3"
  },
  "language_info": {
   "codemirror_mode": {
    "name": "ipython",
    "version": 3
   },
   "file_extension": ".py",
   "mimetype": "text/x-python",
   "name": "python",
   "nbconvert_exporter": "python",
   "pygments_lexer": "ipython3",
   "version": "3.11.2"
  },
  "orig_nbformat": 4
 },
 "nbformat": 4,
 "nbformat_minor": 2
}
